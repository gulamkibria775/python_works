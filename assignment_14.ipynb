{
 "cells": [
  {
   "cell_type": "markdown",
   "metadata": {},
   "source": [
    "1. What does RGBA stand for?\n",
    "\n",
    "Ans:RGBA(Red-Green-Blue-Alpha)"
   ]
  },
  {
   "cell_type": "markdown",
   "metadata": {},
   "source": [
    "2. From the Pillow module, how do you get the RGBA value of any images?\n",
    "Ans:\n",
    "    \n",
    "   ! pip install Pillow\n",
    "    from PIL import Image\n",
    "    \n",
    "    img = Image.open(‘image.png’)\n",
    "\n",
    "    rgba = img.convert(“RGBA”)\n",
    "\n",
    "    datas = rgba.getdata()"
   ]
  },
  {
   "cell_type": "markdown",
   "metadata": {},
   "source": [
    "3. What is a box tuple, and how does it work?\n",
    "Ans:\n",
    "    The box. tuple submodule provides read-only access for the tuple userdata type. It allows, for a single tuple: selective retrieval of the field contents, retrieval of information about size, iteration over all the fields, and conversion to a Lua table."
   ]
  },
  {
   "cell_type": "markdown",
   "metadata": {},
   "source": [
    "4. Use your image and load in notebook then, How can you find out the width and height of an\n",
    "Image object?\n",
    "\n",
    "Ans:\n",
    "    !pip install pillow\n",
    "    \n",
    "    from PIL import Image\n",
    "  \n",
    "# get image\n",
    "filepath = \"myimage.png\"\n",
    "img = Image.open(filepath)\n",
    "  \n",
    "# get width and height\n",
    "width = img.width\n",
    "height = img.height\n",
    "  \n",
    "# display width and height\n",
    "print(\"The height of the image is: \", height)\n",
    "print(\"The width of the image is: \", width)"
   ]
  },
  {
   "cell_type": "markdown",
   "metadata": {},
   "source": [
    "# 5. What method would you call to get Image object for a 100×100 image, excluding the lower-left\n",
    "quarter of it?\n",
    "\n",
    "Ans:\n",
    "    \n",
    "    from PIL import Image\n",
    "\n",
    "pil_im = Image.open('empire.jpg')\n",
    "out = pil_im.resize((100,100))\n",
    "\n",
    "####remove\n",
    "\n",
    "img = Image.open(r\"empire.jpg\").convert('RGB')\n",
    "\n",
    "img_arr = np.array(img)\n",
    "  \n",
    "# Turning the pixel values of the 400x400 pixels to black \n",
    "img_arr[0 : 100, 0 : 100] = (0, 0, 0)\n",
    "  \n",
    "# Creating an image out of the previously modified array\n",
    "img = Image.fromarray(img_arr)\n",
    "  \n",
    "# Displaying the image\n",
    "img.show()"
   ]
  },
  {
   "cell_type": "markdown",
   "metadata": {},
   "source": [
    "6. After making changes to an Image object, how could you save it as an image file?\n",
    "\n",
    "from PIL import Image \n",
    "import PIL \n",
    "  \n",
    "\n",
    "im1 = Image.open(r\"C:\\Users\\System-Pc\\Desktop\\flower1.jpg\") \n",
    "  \n",
    "\n",
    "im1 = im1.save(\"geeks.jpg\")"
   ]
  },
  {
   "cell_type": "markdown",
   "metadata": {},
   "source": [
    "7. What module contains Pillow’s shape-drawing code?\n",
    "\n",
    "Ans:\n",
    "    Pillow provides a drawing module called ImageDraw that you can use to create simple 2D graphics on your Image objects. According to Pillow's documentation, \"you can use this module to create new images, annotate or retouch existing images, and to generate graphics on the fly for web use.\""
   ]
  },
  {
   "cell_type": "markdown",
   "metadata": {},
   "source": [
    "8. Image objects do not have drawing methods. What kind of object does? How do you get this kind\n",
    "of object?\n",
    "\n",
    "Ans:from PIL import ImageFont, ImageDraw\n",
    "    \n",
    "    draw = ImageDraw.Draw(image_list[n])\n"
   ]
  }
 ],
 "metadata": {
  "kernelspec": {
   "display_name": "Python 3",
   "language": "python",
   "name": "python3"
  },
  "language_info": {
   "codemirror_mode": {
    "name": "ipython",
    "version": 3
   },
   "file_extension": ".py",
   "mimetype": "text/x-python",
   "name": "python",
   "nbconvert_exporter": "python",
   "pygments_lexer": "ipython3",
   "version": "3.7.4"
  }
 },
 "nbformat": 4,
 "nbformat_minor": 2
}
